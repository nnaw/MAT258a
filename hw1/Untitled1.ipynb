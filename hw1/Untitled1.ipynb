{
 "cells": [
  {
   "cell_type": "code",
   "execution_count": 1,
   "metadata": {
    "collapsed": false
   },
   "outputs": [
    {
     "ename": "LoadError",
     "evalue": "Covex not found\nwhile loading In[1], in expression starting on line 1",
     "output_type": "error",
     "traceback": [
      "Covex not found\nwhile loading In[1], in expression starting on line 1",
      "",
      " in require at loading.jl:47"
     ]
    }
   ],
   "source": [
    "using Covex\n",
    "using ECSC"
   ]
  },
  {
   "cell_type": "code",
   "execution_count": 2,
   "metadata": {
    "collapsed": true
   },
   "outputs": [],
   "source": [
    "using Convex"
   ]
  },
  {
   "cell_type": "code",
   "execution_count": 3,
   "metadata": {
    "collapsed": false
   },
   "outputs": [
    {
     "ename": "LoadError",
     "evalue": "ECSC not found\nwhile loading In[3], in expression starting on line 1",
     "output_type": "error",
     "traceback": [
      "ECSC not found\nwhile loading In[3], in expression starting on line 1",
      "",
      " in require at loading.jl:47"
     ]
    }
   ],
   "source": [
    "using ECSC"
   ]
  },
  {
   "cell_type": "code",
   "execution_count": 4,
   "metadata": {
    "collapsed": true
   },
   "outputs": [],
   "source": [
    "using ECOS"
   ]
  },
  {
   "cell_type": "code",
   "execution_count": 5,
   "metadata": {
    "collapsed": false
   },
   "outputs": [
    {
     "data": {
      "text/plain": [
       "Variable of\n",
       "size: (100, 1)\n",
       "sign: NoSign()\n",
       "vexity: AffineVexity()"
      ]
     },
     "execution_count": 5,
     "metadata": {},
     "output_type": "execute_result"
    }
   ],
   "source": [
    "n=100\n",
    "A=randn(n,n)\n",
    "b=randn(n,1)\n",
    "x=Variable(n)\n"
   ]
  },
  {
   "cell_type": "code",
   "execution_count": 6,
   "metadata": {
    "collapsed": false
   },
   "outputs": [
    {
     "name": "stdout",
     "output_type": "stream",
     "text": [
      "\n",
      "ECOS 2.0.2 - (C) embotech GmbH, Zurich Switzerland, 2012-15. Web: www.embotech.com/ECOS\n",
      "\n",
      "It     pcost       dcost      gap   pres   dres    k/t    mu     step   sigma     IR    |   BT\n",
      " 0  +0.000e+00  -1.291e+00  +1e+03  9e-01  1e-01  1e+00  5e+00    ---    ---    1  2  - |  -  - \n",
      " 1  -2.494e-01  -3.101e-01  +1e+02  4e-01  1e-02  2e-01  7e-01  0.8786  9e-03   1  1  1 |  0  0\n",
      " 2  +7.152e+00  +7.241e+00  +1e+02  2e-01  6e-03  3e-01  6e-01  0.5290  8e-01   1  1  2 |  0  0\n",
      " 3  +1.744e+01  +1.759e+01  +1e+02  2e-01  4e-03  4e-01  6e-01  0.1525  7e-01   2  2  2 |  0  0\n",
      " 4  +1.403e+01  +1.416e+01  +1e+02  2e-01  4e-03  4e-01  6e-01  0.0312  9e-01   2  2  2 |  0  0\n",
      " 5  +4.853e+01  +4.886e+01  +9e+01  9e-02  2e-03  6e-01  4e-01  0.7358  6e-01   2  2  2 |  0  0\n",
      " 6  +3.974e+01  +4.002e+01  +8e+01  7e-02  2e-03  5e-01  4e-01  0.2868  7e-01   2  2  2 |  0  0\n",
      " 7  +4.773e+01  +4.796e+01  +5e+01  5e-02  1e-03  4e-01  3e-01  0.4436  3e-01   2  2  2 |  0  0\n",
      " 8  +4.476e+01  +4.496e+01  +4e+01  4e-02  8e-04  3e-01  2e-01  0.9038  7e-01   2  2  2 |  0  0\n",
      " 9  +5.752e+01  +5.769e+01  +2e+01  2e-02  4e-04  2e-01  1e-01  0.7256  3e-01   3  3  3 |  0  0\n",
      "10  +6.949e+01  +6.960e+01  +1e+01  1e-02  2e-04  1e-01  5e-02  0.5840  1e-01   4  3  3 |  0  0\n",
      "11  +8.068e+01  +8.071e+01  +2e+00  2e-03  4e-05  4e-02  1e-02  0.8478  4e-02   3  3  3 |  0  0\n",
      "12  +8.229e+01  +8.230e+01  +7e-01  8e-04  1e-05  1e-02  3e-03  0.7088  8e-02   3  2  3 |  0  0\n",
      "13  +8.322e+01  +8.322e+01  +3e-01  3e-04  5e-06  6e-03  1e-03  0.8960  3e-01   5  3  3 |  0  0\n",
      "14  +8.348e+01  +8.348e+01  +3e-02  4e-05  7e-07  8e-04  2e-04  0.9072  4e-02   4  2  2 |  0  0\n",
      "15  +8.352e+01  +8.352e+01  +5e-03  6e-06  1e-07  1e-04  2e-05  0.8727  3e-02   4  3  3 |  0  0\n",
      "16  +8.353e+01  +8.353e+01  +1e-03  1e-06  2e-08  3e-05  6e-06  0.8182  8e-02   3  3  3 |  0  0\n",
      "17  +8.353e+01  +8.353e+01  +5e-04  5e-07  9e-09  1e-05  2e-06  0.7877  2e-01   2  2  2 |  0  0\n",
      "18  +8.353e+01  +8.353e+01  +5e-05  6e-08  1e-09  1e-06  3e-07  0.9264  5e-02   3  2  2 |  0  0\n",
      "19  +8.353e+01  +8.353e+01  +3e-06  3e-09  6e-11  7e-08  1e-08  0.9702  2e-02   2  2  2 |  0  0\n",
      "20  +8.353e+01  +8.353e+01  +1e-07  2e-10  3e-12  3e-09  6e-10  0.9544  3e-04   3  2  2 |  0  0\n",
      "\n",
      "OPTIMAL (within feastol=1.7e-10, reltol=1.5e-09, abstol=1.3e-07).\n",
      "Runtime: 0.056727 seconds.\n",
      "\n"
     ]
    }
   ],
   "source": [
    "problem = minimize(sum_squares(A * x - b)+10*norm(x,1))\n",
    "\n",
    "# Solve the problem by calling solve!\n",
    "solve!(problem)"
   ]
  },
  {
   "cell_type": "code",
   "execution_count": 9,
   "metadata": {
    "collapsed": false
   },
   "outputs": [
    {
     "data": {
      "text/plain": [
       "100x1 Array{Float64,2}:\n",
       "  1.00104e-8 \n",
       "  0.0196452  \n",
       " -6.52676e-10\n",
       " -3.92014e-10\n",
       " -0.0194091  \n",
       " -2.88914e-10\n",
       "  3.78242e-10\n",
       "  1.58046e-9 \n",
       " -0.0377455  \n",
       "  1.39731e-8 \n",
       "  0.146729   \n",
       "  0.196846   \n",
       "  0.0181524  \n",
       "  ⋮          \n",
       "  0.140971   \n",
       "  4.64773e-11\n",
       " -6.41979e-10\n",
       " -3.74242e-11\n",
       "  0.0238981  \n",
       " -1.70335e-9 \n",
       "  5.38902e-11\n",
       "  1.6704e-9  \n",
       "  0.0193733  \n",
       " -1.27688e-9 \n",
       " -0.106371   \n",
       "  1.90567e-9 "
      ]
     },
     "execution_count": 9,
     "metadata": {},
     "output_type": "execute_result"
    }
   ],
   "source": [
    "x.value"
   ]
  },
  {
   "cell_type": "code",
   "execution_count": 13,
   "metadata": {
    "collapsed": false
   },
   "outputs": [
    {
     "data": {
      "image/png": "[encoded data removed]",
      "text/plain": [
       "Figure(PyObject <matplotlib.figure.Figure object at 0x7f781e9ff790>)"
      ]
     },
     "metadata": {},
     "output_type": "display_data"
    },
    {
     "data": {
      "text/plain": [
       "([1.0,3.0,1.0,5.0,5.0,62.0,10.0,3.0,7.0,3.0],[-0.272124,-0.223781,-0.175439,-0.127097,-0.0787547,-0.0304124,0.0179299,0.0662721,0.114614,0.162957,0.211299],{PyObject <matplotlib.patches.Rectangle object at 0x7f7812a8d210>,PyObject <matplotlib.patches.Rectangle object at 0x7f7812a8d850>,PyObject <matplotlib.patches.Rectangle object at 0x7f7812a8ded0>,PyObject <matplotlib.patches.Rectangle object at 0x7f7812a99590>,PyObject <matplotlib.patches.Rectangle object at 0x7f7812a99c10>,PyObject <matplotlib.patches.Rectangle object at 0x7f7812aa62d0>,PyObject <matplotlib.patches.Rectangle object at 0x7f7812aa6950>,PyObject <matplotlib.patches.Rectangle object at 0x7f7812aa6fd0>,PyObject <matplotlib.patches.Rectangle object at 0x7f7812ab0690>,PyObject <matplotlib.patches.Rectangle object at 0x7f7812ab0d10>})"
      ]
     },
     "execution_count": 13,
     "metadata": {},
     "output_type": "execute_result"
    }
   ],
   "source": [
    "using PyPlot\n",
    "#figure([5,12])\n",
    "plt[:hist](x.value)"
   ]
  },
  {
   "cell_type": "code",
   "execution_count": null,
   "metadata": {
    "collapsed": true
   },
   "outputs": [],
   "source": []
  }
 ],
 "metadata": {
  "kernelspec": {
   "display_name": "Julia 0.3.11",
   "language": "julia",
   "name": "julia-0.3"
  },
  "language_info": {
   "file_extension": ".jl",
   "mimetype": "application/julia",
   "name": "julia",
   "version": "0.3.11"
  }
 },
 "nbformat": 4,
 "nbformat_minor": 0
}
