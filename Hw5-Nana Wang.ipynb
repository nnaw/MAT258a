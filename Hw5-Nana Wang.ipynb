{
 "cells": [
  {
   "cell_type": "markdown",
   "metadata": {},
   "source": [
    "#  Homework Assignment 5\n",
    "## Nana Wang (ID: 999480980)"
   ]
  },
  {
   "cell_type": "markdown",
   "metadata": {},
   "source": [
    "## Excercise 4 [Implementation of augmented Lagrangian method]"
   ]
  },
  {
   "cell_type": "markdown",
   "metadata": {},
   "source": [
    "### Functions"
   ]
  },
  {
   "cell_type": "code",
   "execution_count": 1,
   "metadata": {
    "collapsed": false
   },
   "outputs": [
    {
     "data": {
      "text/plain": [
       "bisection_wolfe (generic function with 1 method)"
      ]
     },
     "execution_count": 1,
     "metadata": {},
     "output_type": "execute_result"
    }
   ],
   "source": [
    "#Modified Newton method and quasi-Newton method （bfgs)\n",
    "function newtmin(obj,x0,method;eps=1,maxIts=100,optTol=1e-8,r=0.9,c1=1e-4,c2=0.9)\n",
    "    # Minimize a function f using Netown's method.\n",
    "    #obj: a function that evaluates the objective values, gradient and Hessian at a point x, i.e., (f,g,H)=obj(x)\n",
    "    #x0: starting point\n",
    "    #maxIts: maximum number of iterations\n",
    "    #optTol: optimality toleracne based on ||grad(x)||<=optTol*||grad(x0)||\n",
    "    if method==\"newton\"\n",
    "        g=obj(x0)[2]\n",
    "        H=obj(x0)[3]\n",
    "        its=0;g0=g;x=x0\n",
    "        #G=Float64[]\n",
    "        while norm(g)>optTol && its<maxIts\n",
    "            #push!(G,norm(g))\n",
    "            D,V=eig(H)\n",
    "            H=V*Diagonal(map(x->1/max(abs(x),eps),D))*V'\n",
    "            d=-H*g\n",
    "            x=x+btls(obj,x,d,g,r,c1)*d\n",
    "            its=its+1\n",
    "            g=obj(x)[2]\n",
    "            H=obj(x)[3]\n",
    "        end\n",
    "    elseif method==\"bfgs\"\n",
    "        f0,g0,H0=obj(x0)\n",
    "        D,V=eig(H0)\n",
    "        H0=V*Diagonal(map(x->1/max(x,1),D))*V'\n",
    "        its=0;ng=norm(g0);x=x0\n",
    "        #G=Float64[]\n",
    "        while norm(g0)>optTol && its<maxIts\n",
    "            #push!(G,norm(g0))\n",
    "            d=-H0*g0\n",
    "            x=x0+bisection_wolfe(obj,x0,d,c1,c2,r)*d\n",
    "            g=obj(x)[2]\n",
    "            s=x-x0; y=g-g0\n",
    "            rho=1/dot(y,s)\n",
    "            H=(eye(H0)-rho*s*y')*H0*(eye(H0)-rho*y*s')+rho*s*s'\n",
    "            its=its+1\n",
    "            x0=x;g0=g;H0=H\n",
    "        end\n",
    "    else \n",
    "        println(\"Please enter netwon or bfgs!\")\n",
    "    end\n",
    "    return x,its\n",
    "end\n",
    "\n",
    "function btls(obj,x,d,g,r,c1;a=1,maxIts=100)\n",
    "    for i=1:maxIts\n",
    "        a=a*r\n",
    "        if obj(x+a*d)[1]<=obj(x)[1]+a*c1*dot(g,d)\n",
    "            break\n",
    "        end\n",
    "     end\n",
    "    return a\n",
    "end\n",
    "\n",
    "function bisection_wolfe(obj,x0,d,c1,c2,r; maxIts=25)\n",
    "    a=0;t=1;b=Inf\n",
    "    f0,g0=obj(x0)\n",
    "    for i=1:maxIts\n",
    "        f,g,H=obj(x0+t*d)\n",
    "        if f>f0+c1*dot(g0,d)\n",
    "            b=t; t=a*(1-r)+b*r\n",
    "        elseif dot(g,d)<c2*dot(g0,d)\n",
    "            a=t;\n",
    "            if isinf(b)\n",
    "                t=2*a\n",
    "            else\n",
    "                t=a*(1-r)+b*r\n",
    "            end\n",
    "        else\n",
    "           break;\n",
    "        end\n",
    "    end\n",
    "        return t\n",
    "end"
   ]
  },
  {
   "cell_type": "code",
   "execution_count": 2,
   "metadata": {
    "collapsed": false,
    "scrolled": true
   },
   "outputs": [
    {
     "data": {
      "text/plain": [
       "AugLag (generic function with 1 method)"
      ]
     },
     "execution_count": 2,
     "metadata": {},
     "output_type": "execute_result"
    }
   ],
   "source": [
    "import ForwardDiff\n",
    "function AugLag(f,c,x0,y0,method;ρ=1, rho=10,optTol=1e-8,r=0.9,maxIts=1000)\n",
    "    k=0;xk=x0;yk=y0;rk=ρ\n",
    "    g0=ForwardDiff.gradient(f)\n",
    "    J=ForwardDiff.jacobian(c)\n",
    "    Jk=J(xk)'\n",
    "    for i=1:maxIts\n",
    "        #println(\"Step \",k,\": \", \"xk=\",xk,\" rk=\",rk,\"; |c(xk)|=\", norm(c(xk)),\" , |g-J'y|=\", norm(g(xk)-Jk*yk))\n",
    "        #println(\"   norm(c(xk))=\", norm(c(xk)), \" and norm(g-Jy)=\",norm(g(xk)-Jk*yk))\n",
    "        if norm(c(xk))<=optTol && norm(g0(xk)-Jk*yk)<=optTol \n",
    "            break;\n",
    "        end\n",
    "        function objL(y)\n",
    "            l(x)=f(x)-dot(yk,c(x))+dot(c(x),c(x))*rk/2\n",
    "            g=ForwardDiff.gradient(l)\n",
    "            H=ForwardDiff.hessian(l)\n",
    "            return (l(y),g(y),H(y))\n",
    "        end\n",
    "        xk=newtmin(objL,xk,method,r=r)[1]\n",
    "        if norm(c(xk)) <= 1/k\n",
    "            yk=yk-rk*c(xk)\n",
    "        else\n",
    "            rk=10*rk\n",
    "        end\n",
    "        Jk=J(xk)'\n",
    "        k=k+1\n",
    "    end\n",
    "    if k==maxIts\n",
    "        println(\"  Not converge! |c(xk)|=\",norm(c(xk)),\" and |g-J'y|=\", norm(g(xk)-Jk*yk))\n",
    "    end\n",
    "    return xk, f(xk), k\n",
    "end"
   ]
  },
  {
   "cell_type": "markdown",
   "metadata": {},
   "source": [
    "### Problem 6-9 of the Hock-Schittkowski Collection"
   ]
  },
  {
   "cell_type": "code",
   "execution_count": 3,
   "metadata": {
    "collapsed": false,
    "scrolled": true
   },
   "outputs": [
    {
     "data": {
      "text/plain": [
       "testpb (generic function with 1 method)"
      ]
     },
     "execution_count": 3,
     "metadata": {},
     "output_type": "execute_result"
    }
   ],
   "source": [
    "function testpb(i)\n",
    "    if i==6\n",
    "        f(x:: Vector)=(1-x[1])^2\n",
    "        c(x:: Vector)=[10*(x[2]-x[1]^2)]\n",
    "        x0=[-1.2,1]\n",
    "        m=1\n",
    "    elseif i==7\n",
    "        f(x:: Vector)=log(1+x[1]*x[1])-x[2]\n",
    "        c(x:: Vector)=[(1+x[1]*x[1])^2+x[2]*x[2]-4]\n",
    "        x0=[2.0,2.0]\n",
    "        m=1\n",
    "    elseif i==8\n",
    "        f(x:: Vector)=1\n",
    "        c(x:: Vector)=[x[1]^2+x[2]^2-25, x[1]*x[2]-9]\n",
    "        x0=[2.0,1.0]\n",
    "        m=2\n",
    "    elseif i==9\n",
    "        f(x::Vector)=sin(pi*x[1]/12)*cos(pi*x[2]/16)\n",
    "        c(x::Vector )=[4*x[1]-3*x[2]]\n",
    "        x0=[0.0,0.0]\n",
    "        m=1\n",
    "    else\n",
    "        println(\"Please enter 6, 7, 8 or 9!\")\n",
    "    end\n",
    "    return f,c,x0,m\n",
    "end"
   ]
  },
  {
   "cell_type": "markdown",
   "metadata": {},
   "source": [
    "### Results"
   ]
  },
  {
   "cell_type": "code",
   "execution_count": 4,
   "metadata": {
    "collapsed": false,
    "scrolled": true
   },
   "outputs": [
    {
     "name": "stdout",
     "output_type": "stream",
     "text": [
      "Newton's method: \n",
      "For problem 6: \n",
      "  xk=[1.0000000090298693,1.0000000181920625], f(xk)=8.153853951619753e-17 and its=2\n",
      "For problem 7: \n",
      "  xk=[1.009968745605941e-40,1.7320508084964588], f(xk)=-1.7320508084964588 and its=7\n",
      "For problem 8: \n",
      "  xk=[4.601594917663884,1.9558436065355926], f(xk)=1 and its=2\n",
      "For problem 9: \n",
      "  xk=[-2.999999890072189,-3.9999998536882555], f(xk)=-0.49999999997460437 and its=5\n"
     ]
    }
   ],
   "source": [
    "println(\"Newton's method: \")\n",
    "srand(1)\n",
    "for i=6:9\n",
    "    f,c,x0,m=testpb(i)\n",
    "    y0=randn(m)\n",
    "    println(\"For problem \",i,\": \")\n",
    "    xk,fxk,k=AugLag(f,c,x0,y0,\"newton\")\n",
    "    println(\"  xk=\",xk,\", f(xk)=\", fxk,\" and its=\",k)\n",
    "end"
   ]
  },
  {
   "cell_type": "code",
   "execution_count": 5,
   "metadata": {
    "collapsed": false,
    "scrolled": true
   },
   "outputs": [
    {
     "name": "stdout",
     "output_type": "stream",
     "text": [
      "Quasi-Newton method (BFGS):\n",
      "For problem 6: \n",
      "  xk=[1.000000000033154,1.0000000000657836], f(xk)=1.0991826799507169e-21 and its=2\n",
      "For problem 7: \n",
      "  xk=[-2.0747818972942065e-39,1.732050809053286], f(xk)=-1.732050809053286 and its=7\n",
      "For problem 8: \n",
      "  xk=[4.601594917913624,1.9558436060828601], f(xk)=1 and its=2\n",
      "For problem 9: \n",
      "  xk=[-2.999999999999783,-4.000000000000051], f(xk)=-0.4999999999999665 and its=3\n"
     ]
    }
   ],
   "source": [
    "println(\"Quasi-Newton method (BFGS):\")\n",
    "srand(1)\n",
    "for i=6:9\n",
    "    f,c,x0,m=testpb(i)\n",
    "    y0=randn(m)\n",
    "    println(\"For problem \",i,\": \")\n",
    "    xk,fxk,k=AugLag(f,c,x0,y0,\"bfgs\")\n",
    "    println(\"  xk=\",xk,\", f(xk)=\", fxk,\" and its=\",k)\n",
    "end"
   ]
  },
  {
   "cell_type": "markdown",
   "metadata": {
    "collapsed": true
   },
   "source": [
    "From the results above: for problem 6-9,  both Newton's and quasi-Newton's methods converge in less than 10 steps ($|c(x)|<1e-8$ and $\\|g-J'y\\|<1e-8$)."
   ]
  }
 ],
 "metadata": {
  "kernelspec": {
   "display_name": "Julia 0.4.0-rc3",
   "language": "julia",
   "name": "julia-0.4"
  },
  "language_info": {
   "file_extension": ".jl",
   "mimetype": "application/julia",
   "name": "julia",
   "version": "0.4.0"
  }
 },
 "nbformat": 4,
 "nbformat_minor": 0
}
