{
 "cells": [
  {
   "cell_type": "markdown",
   "metadata": {},
   "source": [
    "# Homework Assignment 3"
   ]
  },
  {
   "cell_type": "markdown",
   "metadata": {},
   "source": [
    "## Exercise 1"
   ]
  },
  {
   "cell_type": "markdown",
   "metadata": {},
   "source": [
    "The function that implements Netown's method for minimization is"
   ]
  },
  {
   "cell_type": "code",
   "execution_count": 17,
   "metadata": {
    "collapsed": false
   },
   "outputs": [
    {
     "data": {
      "text/plain": [
       "p2obj (generic function with 1 method)"
      ]
     },
     "execution_count": 17,
     "metadata": {},
     "output_type": "execute_result"
    }
   ],
   "source": [
    "function newtmin(obj,x0,method;eps=1e-8,maxIts=1000,optTol=1e-8,r=0.9,c1=1e-4,c2=0.9)\n",
    "    # Minimize a function f using Netown's method.\n",
    "    #obj: a function that evaluates the objective values, gradient and Hessian at a point x, i.e., (f,g,H)=obj(x)\n",
    "    #x0: starting point\n",
    "    #maxIts: maximum number of iterations\n",
    "    #optTol: optimality toleracne based on ||grad(x)||<=optTol*||grad(x0)||\n",
    "    if method==\"newton\"\n",
    "        g=obj(x0)[2]\n",
    "        H=obj(x0)[3]\n",
    "        its=0;g0=g;x=x0\n",
    "        G=Float64[]\n",
    "        while norm(g)>optTol && its <maxIts\n",
    "            push!(G,norm(g))\n",
    "            x=x-H\\g\n",
    "            its=its+1\n",
    "            g=obj(x)[2]\n",
    "            H=obj(x)[3]\n",
    "        end\n",
    "    elseif method==\"modified1\"\n",
    "        g=obj(x0)[2]\n",
    "        H=obj(x0)[3]\n",
    "        its=0;g0=g;x=x0\n",
    "        G=Float64[]\n",
    "        while norm(g)>optTol && its<maxIts\n",
    "            push!(G,norm(g))\n",
    "            D,V=eig(H)\n",
    "            H=V*Diagonal(map(x->1/max(abs(x),eps),D))*V'\n",
    "            d=-H*g\n",
    "            x=btls(obj,x,d,g,1,r,c1,c2)\n",
    "            its=its+1\n",
    "            g=obj(x)[2]\n",
    "            H=obj(x)[3]\n",
    "        end\n",
    "    elseif method==\"modified2\"\n",
    "        g=obj(x0)[2]\n",
    "        H=obj(x0)[3]\n",
    "        its=0;g0=g;x=x0\n",
    "        G=Float64[]\n",
    "        while norm(g)>optTol*norm(g0) && its<maxIts\n",
    "            push!(G,norm(g))\n",
    "            D,V=eig(H)\n",
    "            H=V*Diagonal(map(x->1/max(abs(x),eps),D))*V'\n",
    "            d=-H*g\n",
    "            x=btls(obj,x,d,g,1,r,c1,c2)\n",
    "            its=its+1\n",
    "            g=obj(x)[2]\n",
    "            H=obj(x)[3]\n",
    "        end\n",
    "    elseif method==\"bfgs\"\n",
    "        f0,g0,H0=obj(x0)\n",
    "        D,V=eig(H0)\n",
    "        H0=V*Diagonal(map(x->1/max(x,1),D))*V'\n",
    "        its=0;ng=norm(g0)\n",
    "        G=Float64[]\n",
    "        while norm(g0)>optTol*ng && its<maxIts\n",
    "            push!(G,norm(g0))\n",
    "            d=-H0*g0\n",
    "            x=btls(obj,x0,d,g0,2,r,c1,c2)\n",
    "            g=obj(x)[2]\n",
    "            s=x-x0; y=g-g0\n",
    "            rho=1/dot(y,s)\n",
    "            H=(eye(H0)-rho*s*y')*H0*(eye(H0)-rho*y*s')+rho*s*s'\n",
    "            its=its+1\n",
    "            x0=x;g0=g;H0=H\n",
    "        end\n",
    "    else \n",
    "        println(\"Please enter netwon, modified1, modified2 or bfgs!\")\n",
    "    end\n",
    "    return x,its,G\n",
    "end\n",
    "\n",
    "function btls(obj,x,d,g,method,r,c1,c2;a=1,maxIts0=100,maxIts1=25)\n",
    "    if method==1\n",
    "        for i=1:maxIts0\n",
    "            a=a*r\n",
    "            if obj(x+a*d)[1]<=obj(x)[1]+a*c1*dot(g,d)\n",
    "                break\n",
    "            end\n",
    "        end\n",
    "    elseif  method==2\n",
    "        for i=1:maxIts1\n",
    "            a=a*r\n",
    "            if obj(x+a*d)[1]<=obj(x)[1]+c1*a*dot(g,d) && dot(d,obj(x+a*d)[2])>=c2*dot(d,g)\n",
    "                break\n",
    "            end\n",
    "        end\n",
    "    else\n",
    "        println(\"Please enter 1 or 2!\")\n",
    "    end\n",
    "    x=x+a*d\n",
    "    return x\n",
    "end\n",
    "\n",
    "function p2obj(p)\n",
    "    function obj(x)\n",
    "        return (p.obj(x),p.grd(x),p.hes(x))\n",
    "    end\n",
    "    return obj\n",
    "end"
   ]
  },
  {
   "cell_type": "markdown",
   "metadata": {},
   "source": [
    "A test script is as below:"
   ]
  },
  {
   "cell_type": "code",
   "execution_count": 18,
   "metadata": {
    "collapsed": false,
    "scrolled": true
   },
   "outputs": [
    {
     "name": "stdout",
     "output_type": "stream",
     "text": [
      "Name                   its        f(x0)     |∇f(x0)| cond(∇²f(x0))\n",
      "Pure Newton             12     1.10e-42     2.96e-21     2.00e+00\n",
      "Modified Newton         23     1.33e-27     1.03e-13     2.00e+00\n",
      "Modified Newton         18     1.33e-17     1.03e-08     2.00e+00\n",
      "BFGS                    22     1.02e-17     9.05e-09     2.00e+00\n"
     ]
    }
   ],
   "source": [
    "function obj0(x)\n",
    "    f=x[1]^4+2x[1]^2+(x[2]-4)^2\n",
    "    g=[4x[1]^3+4x[1],2x[2]-8]\n",
    "    H=[12x[1]^2+4 0;0 2]\n",
    "    return f,g,H\n",
    "end\n",
    "\n",
    "@printf(\"%-20s %5s %12s %12s %12s\\n\", \"Name\",\"its\",\"f(x0)\",\"|∇f(x0)|\",\"cond(∇²f(x0))\")\n",
    "x0=[20, 50]\n",
    "x,its,G=newtmin(obj0,x0,\"newton\";maxIts=100,optTol=1e-12)\n",
    "@printf(\"%-20s %5i %12.2e %12.2e %12.2e\\n\", \"Pure Newton\",\n",
    "its, obj0(x)[1],norm(obj0(x)[2]),cond(obj0(x)[3]))\n",
    "x,its,G=newtmin(obj0,x0,\"modified1\";maxIts=100,optTol=1e-12)\n",
    "@printf(\"%-20s %5i %12.2e %12.2e %12.2e\\n\",\"Modified Newton\",\n",
    "its, obj0(x)[1],norm(obj0(x)[2]),cond(obj0(x)[3]))\n",
    "x,its,G=newtmin(obj0,x0,\"modified2\";maxIts=100,optTol=1e-12)\n",
    "@printf(\"%-20s %5i %12.2e %12.2e %12.2e\\n\",\"Modified Newton\",\n",
    "its, obj0(x)[1],norm(obj0(x)[2]),cond(obj0(x)[3]))\n",
    "x,its,G=newtmin(obj0,x0,\"bfgs\";maxIts=100,optTol=1e-12)\n",
    "@printf(\"%-20s %5i %12.2e %12.2e %12.2e\\n\", \"BFGS\",\n",
    "its, obj0(x)[1],norm(obj0(x)[2]),cond(obj0(x)[3]))"
   ]
  },
  {
   "cell_type": "markdown",
   "metadata": {},
   "source": [
    "From the results above, the Newton's method returns a minimizer within the correct tolerance."
   ]
  },
  {
   "cell_type": "markdown",
   "metadata": {},
   "source": [
    "For Tom's Problem, a simple result (Pure Newton's method, Modified Newton's method and quasi-Newton BGGS method) is listed below. "
   ]
  },
  {
   "cell_type": "code",
   "execution_count": 3,
   "metadata": {
    "collapsed": false,
    "scrolled": false
   },
   "outputs": [
    {
     "name": "stdout",
     "output_type": "stream",
     "text": [
      "No.   n        f(x0)   Its        f(x*)   Its        f(x*)   Its        f(x*)\n",
      "  1   3     2.50e+03    33     8.17e-23   164     3.55e-19    42     3.58e-09\n",
      "  2   6     7.79e-01    89          Inf  1000     5.94e-04   134     6.49e-12\n",
      "  3   3     3.89e-06     2     1.13e-08     6     1.13e-08    25     1.13e-08\n",
      "  4   2     1.14e+00    16     2.00e+00    94     5.41e-27   179     3.12e-13\n",
      "  5   3     1.03e+03     9     5.06e-23    28     4.16e-17    50     1.14e-09\n",
      "  6  40     9.39e+10   100     5.04e+03  1000     1.73e+01    49     1.05e+03\n",
      "  7   9     3.00e+01   100     3.50e+23  1000     4.32e-04   114     6.19e-06\n",
      "  8  60     5.45e+09    20     5.25e-04    26     5.25e-04    30     4.81e+01\n",
      "  9  65     2.87e+05   100     1.25e+04  1000     8.80e+01    62     8.81e+01\n",
      " 10   2     1.00e+12   100     1.47e+12    23     7.89e-31   116     2.79e-13\n",
      " 11   4     7.93e+06   100     1.63e+27    46     8.58e+04    36     8.58e+04\n",
      " 12   3     1.21e+01   100    9.52e+237    30     4.62e-19    55     2.80e-09\n",
      " 13  40     2.01e-03    12     2.13e-18   208     4.83e-17    74     3.95e-06\n",
      " 14  40     4.84e+02   100     3.81e+15  1000     6.50e+01   282     3.73e-08\n",
      " 15  60     3.23e+03   100     9.52e+22  1000     3.84e-03   245     1.44e-05\n",
      " 16   2     1.42e+01     1     1.42e+01    13     3.06e-20    27     3.50e-11\n",
      " 17   4     1.92e+04    14     7.88e+00    45     4.84e-20   112     1.74e-06\n",
      " 18  50     1.39e-02     9          NaN  1000     6.67e-03   477     5.39e-03\n"
     ]
    }
   ],
   "source": [
    "using Toms566\n",
    "@printf(\"%3s %3s %12s %5s %12s %5s %12s %5s %12s\\n\",\n",
    "\"No.\",\"n\",\"f(x0)\",\"Its\",\"f(x*)\",\"Its\",\"f(x*)\",\"Its\",\"f(x*)\")\n",
    "for i=1:18\n",
    "    p=Problem(i)\n",
    "    x1,its1,G1=newtmin(p2obj(p),p.x0,\"newton\",maxIts=100)\n",
    "    x2,its2,G2=newtmin(p2obj(p),p.x0,\"modified1\",maxIts=1000)\n",
    "    x4,its4,G4=newtmin(p2obj(p),p.x0,\"bfgs\",maxIts=1000,r=0.5,optTol=1e-6)\n",
    "    @printf(\"%3i %3i %12.2e %5i %12.2e %5i %12.2e %5i %12.2e\\n\",\n",
    "    i,p.n,p.obj(p.x0),its1,p.obj(x1),its2,p.obj(x2),its4,p.obj(x4))\n",
    "end"
   ]
  },
  {
   "cell_type": "markdown",
   "metadata": {},
   "source": [
    "From the results above, the Pure Newton's method does not work good for some of the Tom's problems; the modified Newton's and the BFGS are more stable."
   ]
  },
  {
   "cell_type": "markdown",
   "metadata": {},
   "source": [
    "For the Modified Newton's method, the results are listed below:"
   ]
  },
  {
   "cell_type": "code",
   "execution_count": 4,
   "metadata": {
    "collapsed": false
   },
   "outputs": [
    {
     "name": "stdout",
     "output_type": "stream",
     "text": [
      "No.  Name                             n   Its         f(x)      |∇f(x)| cond(∇²f(x))\n",
      "  1  Hellical valley                  3   164     3.55e-19     6.86e-09     4.94e+02\n",
      "  2  Bigg's EXP6                      6  2000     3.45e-04     1.13e-03     1.53e+02\n",
      "  3  Gaussian                         3     6     1.13e-08     7.45e-09     5.13e+01\n",
      "  4  Powell                           2    94     5.41e-27     7.42e-09     6.88e+17\n",
      "  5  Box 3-dim                        3    28     4.16e-17     5.84e-09     8.34e+03\n",
      "  6  Variably dimensioned            40  2000     6.01e+00     9.68e+00     9.06e+03\n",
      "  7  Watson                           9  2000     2.02e-04     1.71e-02     3.75e+01\n",
      "  8  Penalty I                       60    26     5.25e-04     3.81e-09     6.46e+03\n",
      "  9  Penalty II                      65  2000     8.80e+01     5.87e-03     1.09e+06\n",
      " 10  Brown badly scaled               2    23     7.89e-31     1.78e-09     1.00e+12\n",
      " 11  Brown and Denis                  4    46     8.58e+04     5.07e-09     8.46e+01\n",
      " 12  Gulf research and development    3    30     4.62e-19     4.73e-09     6.96e+06\n",
      " 13  Trigonometric                   40   208     4.83e-17     9.72e-09     2.45e+01\n",
      " 14  Extended rosenbrock             40  2000     5.41e+01     1.45e+01     2.99e+03\n",
      " 15  Extended Powell singular        60  2000     1.70e-03     6.83e-02     3.28e+03\n",
      " 16  Beale                            2    13     3.06e-20     1.34e-09     1.62e+02\n",
      " 17  Wood                             4    45     4.84e-20     5.39e-09     1.40e+03\n",
      " 18  Chebyquad                       50  2000     6.56e-03     3.14e-02     1.87e+02\n"
     ]
    }
   ],
   "source": [
    "using Toms566\n",
    "using Base.Test\n",
    "\n",
    "@printf(\"%3s  %-30s %3s %5s %12s %12s %12s\\n\",\"No.\",\"Name\",\"n\",\"Its\",\n",
    "        \"f(x)\",\"|∇f(x)|\",\"cond(∇²f(x))\")\n",
    "for i=1:18\n",
    "    p = Problem(i)\n",
    "    x,its,G=newtmin(p2obj(p),p.x0,\"modified1\",maxIts=2000)\n",
    "    @printf(\"%3i  %-30s %3i %5i %12.2e %12.2e %12.2e\\n\",\n",
    "    i, p.name, p.n, its, p.obj(x),\n",
    "            norm(p.grd(x)),\n",
    "            cond(p.hes(x)))\n",
    "end"
   ]
  },
  {
   "cell_type": "markdown",
   "metadata": {},
   "source": [
    "For the 2nd, 6th and 9th Problems:"
   ]
  },
  {
   "cell_type": "code",
   "execution_count": 5,
   "metadata": {
    "collapsed": false
   },
   "outputs": [
    {
     "name": "stdout",
     "output_type": "stream",
     "text": [
      "No.  Name                             n      Its         f(x)      |∇f(x)| cond(∇²f(x))\n",
      "  2  Bigg's EXP6                      6   837459     2.32e-12     1.00e-08     3.98e+01\n",
      "  6  Variably dimensioned            40   100389     2.42e-17     1.00e-08     9.04e+03\n",
      "  9  Penalty II                      65    25375     8.80e+01     9.95e-09     1.00e+04\n"
     ]
    }
   ],
   "source": [
    "@printf(\"%3s  %-30s %3s %8s %12s %12s %12s\\n\",\"No.\",\"Name\",\"n\",\"Its\",\n",
    "        \"f(x)\",\"|∇f(x)|\",\"cond(∇²f(x))\")\n",
    "p = Problem(2)\n",
    "x,its,G=newtmin(p2obj(p),p.x0,\"modified1\",maxIts=1e6)\n",
    "@printf(\"%3i  %-30s %3i %8i %12.2e %12.2e %12.2e\\n\",\n",
    "2, p.name, p.n, its, p.obj(x), norm(p.grd(x)), cond(p.hes(x)))\n",
    "\n",
    "p=Problem(6)\n",
    "x,its,G=newtmin(p2obj(p),p.x0,\"modified1\",maxIts=200000)\n",
    "@printf(\"%3i  %-30s %3i %8i %12.2e %12.2e %12.2e\\n\",\n",
    "6, p.name, p.n, its, p.obj(x), norm(p.grd(x)),cond(p.hes(x)))\n",
    "\n",
    "p = Problem(9)\n",
    "x,its,G=newtmin(p2obj(p),p.x0,\"modified1\",maxIts=100000)\n",
    "@printf(\"%3i  %-30s %3i %8i %12.2e %12.2e %12.2e\\n\",\n",
    "9, p.name, p.n, its, p.obj(x),norm(p.grd(x)), cond(p.hes(x)))"
   ]
  },
  {
   "cell_type": "markdown",
   "metadata": {},
   "source": [
    "For the 7th Problem:"
   ]
  },
  {
   "cell_type": "code",
   "execution_count": 8,
   "metadata": {
    "collapsed": false
   },
   "outputs": [
    {
     "name": "stdout",
     "output_type": "stream",
     "text": [
      "No.  Name         n   Its         f(x)      |∇f(x)| cond(∇²f(x))\n",
      "  7  Watson       9 100000     3.53e-05     7.54e-04     3.80e+01\n",
      "  7  Watson       9 1000000     2.04e-05     1.15e-04     3.81e+01\n"
     ]
    }
   ],
   "source": [
    "@printf(\"%3s  %-10s %3s %5s %12s %12s %12s\\n\",\"No.\",\"Name\",\"n\",\"Its\",\n",
    "        \"f(x)\",\"|∇f(x)|\",\"cond(∇²f(x))\")\n",
    "p = Problem(7)\n",
    "x,its,G=newtmin(p2obj(p),p.x0,\"modified1\",maxIts=100000)\n",
    "@printf(\"%3i  %-10s %3i %5i %12.2e %12.2e %12.2e\\n\",\n",
    "7, p.name, p.n, its, p.obj(x),norm(p.grd(x)), cond(p.hes(x)))\n",
    "\n",
    "x,its,G=newtmin(p2obj(p),p.x0,\"modified1\",maxIts=1000000)\n",
    "@printf(\"%3i  %-10s %3i %5i %12.2e %12.2e %12.2e\\n\",\n",
    "7, p.name, p.n, its, p.obj(x),norm(p.grd(x)),cond(p.hes(x)))"
   ]
  },
  {
   "cell_type": "markdown",
   "metadata": {},
   "source": [
    "For the 14th Problem:"
   ]
  },
  {
   "cell_type": "code",
   "execution_count": 10,
   "metadata": {
    "collapsed": false,
    "scrolled": true
   },
   "outputs": [
    {
     "name": "stdout",
     "output_type": "stream",
     "text": [
      "No.  Name                   n   Its         f(x)      |∇f(x)| cond(∇²f(x))\n",
      " 14  Extended rosenbrock   40 100000     2.57e-01     6.37e-01     2.06e+04\n",
      " 14  Extended rosenbrock   40 200000     2.51e-01     8.64e-01     5.11e+05\n"
     ]
    }
   ],
   "source": [
    "@printf(\"%3s  %-20s %3s %5s %12s %12s %12s\\n\",\"No.\",\"Name\",\"n\",\"Its\",\n",
    "        \"f(x)\",\"|∇f(x)|\",\"cond(∇²f(x))\")\n",
    "p = Problem(14)\n",
    "x,its,G=newtmin(p2obj(p),p.x0,\"modified1\",maxIts=100000)\n",
    "@printf(\"%3i  %-20s %3i %5i %12.2e %12.2e %12.2e\\n\",\n",
    "14, p.name, p.n, its, p.obj(x),norm(p.grd(x)), cond(p.hes(x)))\n",
    "\n",
    "x,its,G=newtmin(p2obj(p),p.x0,\"modified1\",maxIts=200000)\n",
    "@printf(\"%3i  %-20s %3i %5i %12.2e %12.2e %12.2e\\n\",\n",
    "14, p.name, p.n, its, p.obj(x),norm(p.grd(x)),cond(p.hes(x)))"
   ]
  },
  {
   "cell_type": "markdown",
   "metadata": {},
   "source": [
    "For the 15th Problem:"
   ]
  },
  {
   "cell_type": "code",
   "execution_count": 11,
   "metadata": {
    "collapsed": false
   },
   "outputs": [
    {
     "name": "stdout",
     "output_type": "stream",
     "text": [
      "No.  Name                             n   Its         f(x)      |∇f(x)| cond(∇²f(x))\n",
      " 15  Extended Powell singular        60 10000     4.98e-04     1.62e-02     2.06e+04\n",
      " 15  Extended Powell singular        60 200000     2.19e-04     6.99e-03     6.30e+05\n"
     ]
    }
   ],
   "source": [
    "@printf(\"%3s  %-30s %3s %5s %12s %12s %12s\\n\",\"No.\",\"Name\",\"n\",\"Its\",\n",
    "        \"f(x)\",\"|∇f(x)|\",\"cond(∇²f(x))\")\n",
    "p = Problem(15)\n",
    "x,its,G=newtmin(p2obj(p),p.x0,\"modified1\",maxIts=10000)\n",
    "@printf(\"%3i  %-30s %3i %5i %12.2e %12.2e %12.2e\\n\",\n",
    "15, p.name, p.n, its, p.obj(x),norm(p.grd(x)), cond(p.hes(x)))\n",
    "\n",
    "x,its,G=newtmin(p2obj(p),p.x0,\"modified1\",maxIts=200000)\n",
    "@printf(\"%3i  %-30s %3i %5i %12.2e %12.2e %12.2e\\n\",\n",
    "15, p.name, p.n, its, p.obj(x),norm(p.grd(x)),cond(p.hes(x)))"
   ]
  },
  {
   "cell_type": "markdown",
   "metadata": {},
   "source": [
    "For the 18th Problem:"
   ]
  },
  {
   "cell_type": "code",
   "execution_count": 13,
   "metadata": {
    "collapsed": false
   },
   "outputs": [
    {
     "name": "stdout",
     "output_type": "stream",
     "text": [
      "No.  Name              n   Its         f(x)      |∇f(x)| cond(∇²f(x))\n",
      " 18  Chebyquad        50  1000     6.67e-03     3.56e-02     3.57e+02\n",
      " 18  Chebyquad        50 10000     6.44e-03     4.71e-03     1.44e+03\n"
     ]
    }
   ],
   "source": [
    "@printf(\"%3s  %-15s %3s %5s %12s %12s %12s\\n\",\"No.\",\"Name\",\"n\",\"Its\",\n",
    "        \"f(x)\",\"|∇f(x)|\",\"cond(∇²f(x))\")\n",
    "p = Problem(18)\n",
    "x,its,G=newtmin(p2obj(p),p.x0,\"modified1\",maxIts=1000)\n",
    "@printf(\"%3i  %-15s %3i %5i %12.2e %12.2e %12.2e\\n\",\n",
    "18, p.name, p.n, its, p.obj(x),norm(p.grd(x)), cond(p.hes(x)))\n",
    "\n",
    "x,its,G=newtmin(p2obj(p),p.x0,\"modified1\",maxIts=10000)\n",
    "@printf(\"%3i  %-15s %3i %5i %12.2e %12.2e %12.2e\\n\",\n",
    "18, p.name, p.n, its, p.obj(x),norm(p.grd(x)),cond(p.hes(x)))"
   ]
  },
  {
   "cell_type": "markdown",
   "metadata": {},
   "source": [
    "From the results above, we can see that the Modified Newton's method can converge for most of the problems. However, some of them are in a pretty slow pace."
   ]
  },
  {
   "cell_type": "markdown",
   "metadata": {},
   "source": [
    "For the BFGS method,"
   ]
  },
  {
   "cell_type": "code",
   "execution_count": 7,
   "metadata": {
    "collapsed": false,
    "scrolled": false
   },
   "outputs": [
    {
     "name": "stdout",
     "output_type": "stream",
     "text": [
      "No.  Name                             n   Its         f(x)      |∇f(x)| cond(∇²f(x))\n",
      "  1  Hellical valley                  3    42     3.58e-09     1.13e-03     4.93e+02\n",
      "  2  Bigg's EXP6                      6   134     6.49e-12     6.64e-07     3.98e+01\n",
      "  3  Gaussian                         3    25     1.13e-08     5.13e-09     5.13e+01\n",
      "  4  Powell                           2   179     3.12e-13     1.33e-02     5.91e+17\n",
      "  5  Box 3-dim                        3    50     1.14e-09     1.20e-04     8.34e+03\n",
      "  6  Variably dimensioned            40    49     1.05e+03     7.20e+04     1.64e+04\n",
      "  7  Watson                           9   114     6.19e-06     1.58e-04     3.80e+01\n",
      "  8  Penalty I                       60    30     4.81e+01     7.44e+01     4.43e+00\n",
      "  9  Penalty II                      65    62     8.81e+01     3.26e-01     4.84e+02\n",
      " 10  Brown badly scaled               2   116     2.79e-13     1.06e+00     1.00e+12\n",
      " 11  Brown and Denis                  4    36     8.58e+04     1.60e+00     8.46e+01\n",
      " 12  Gulf research and development    3    55     2.80e-09     2.33e-05     6.95e+06\n",
      " 13  Trigonometric                   40    74     3.95e-06     4.21e-08     3.28e+01\n",
      " 14  Extended rosenbrock             40   282     3.73e-08     5.47e-04     4.17e+03\n",
      " 15  Extended Powell singular        60   245     1.44e-05     1.69e-03     2.64e+05\n",
      " 16  Beale                            2    27     3.50e-11     1.59e-05     1.62e+02\n",
      " 17  Wood                             4   112     1.74e-06     1.48e-02     1.39e+03\n",
      " 18  Chebyquad                       50   477     5.39e-03     1.94e-06     1.28e+03\n"
     ]
    }
   ],
   "source": [
    "using Toms566\n",
    "using Base.Test\n",
    "\n",
    "@printf(\"%3s  %-30s %3s %5s %12s %12s %12s\\n\",\"No.\",\"Name\",\"n\",\"Its\",\n",
    "        \"f(x)\",\"|∇f(x)|\",\"cond(∇²f(x))\")\n",
    "for i=1:18\n",
    "    p = Problem(i)\n",
    "    x,its,G=newtmin(p2obj(p),p.x0,\"bfgs\",maxIts=1000,r=0.5,optTol=1e-6)\n",
    "    @printf(\"%3i  %-30s %3i %5i %12.2e %12.2e %12.2e\\n\",\n",
    "    i, p.name, p.n, its, p.obj(x),norm(p.grd(x)), cond(p.hes(x)))\n",
    "end"
   ]
  },
  {
   "cell_type": "markdown",
   "metadata": {},
   "source": [
    "If I choose different $\\rho$ and optTol, then I can get better results:"
   ]
  },
  {
   "cell_type": "code",
   "execution_count": 8,
   "metadata": {
    "collapsed": false,
    "scrolled": false
   },
   "outputs": [
    {
     "name": "stdout",
     "output_type": "stream",
     "text": [
      "No.  Name                             n   Its         f(x)      |∇f(x)| cond(∇²f(x))\n",
      "  1  Hellical valley                  3    68     7.95e-25     1.69e-11     4.94e+02\n",
      "  2  Bigg's EXP6                      6   163     2.13e-28     2.01e-14     3.98e+01\n",
      "  3  Gaussian                         3    28     1.13e-08     6.37e-10     5.13e+01\n",
      "  4  Powell                           2   209     3.38e-30     1.82e-10     6.88e+17\n",
      "  5  Box 3-dim                        3    76     3.78e-25     1.20e-12     8.34e+03\n",
      "  6  Variably dimensioned            40  1104     1.82e-30     6.61e-14     9.04e+03\n",
      "  7  Watson                           9   312     1.40e-06     8.87e-13     3.80e+01\n",
      "  8  Penalty I                       60   725     5.25e-04     7.49e-09     7.64e+03\n",
      "  9  Penalty II                      65  7251     8.80e+01     3.19e-09     1.00e+04\n",
      " 10  Brown badly scaled               2   170     0.00e+00     0.00e+00     1.00e+12\n",
      " 11  Brown and Denis                  4    33     8.58e+04     1.21e-10     8.46e+01\n",
      " 12  Gulf research and development    3    94     6.34e-31     1.14e-15     6.96e+06\n",
      " 13  Trigonometric                   40    88     3.95e-06     5.23e-14     3.28e+01\n",
      " 14  Extended rosenbrock             40   475     6.44e-25     1.02e-12     3.90e+03\n",
      " 15  Extended Powell singular        60  1727     4.06e-21     1.75e-15     2.53e+12\n",
      " 16  Beale                            2    59     1.23e-30     8.88e-16     1.62e+02\n",
      " 17  Wood                             4   153     1.77e-31     6.76e-16     1.40e+03\n",
      " 18  Chebyquad                       50   475     5.39e-03     2.58e-10     1.28e+03\n"
     ]
    }
   ],
   "source": [
    "using Toms566\n",
    "using Base.Test\n",
    "\n",
    "@printf(\"%3s  %-30s %3s %5s %12s %12s %12s\\n\",\"No.\",\"Name\",\"n\",\"Its\",\n",
    "        \"f(x)\",\"|∇f(x)|\",\"cond(∇²f(x))\")\n",
    "p = Problem(1)\n",
    "x,its,G=newtmin(p2obj(p),p.x0,\"bfgs\",maxIts=1000,r=0.5,optTol=1e-14)\n",
    "@printf(\"%3i  %-30s %3i %5i %12.2e %12.2e %12.2e\\n\",\n",
    "1, p.name, p.n, its, p.obj(x),norm(p.grd(x)),cond(p.hes(x)))\n",
    "\n",
    "p = Problem(2)\n",
    "x,its,G=newtmin(p2obj(p),p.x0,\"bfgs\",maxIts=1000,r=0.5,optTol=1e-14)\n",
    "@printf(\"%3i  %-30s %3i %5i %12.2e %12.2e %12.2e\\n\",\n",
    "2, p.name, p.n, its, p.obj(x),norm(p.grd(x)),cond(p.hes(x)))\n",
    "\n",
    "p = Problem(3)\n",
    "x,its,G=newtmin(p2obj(p),p.x0,\"bfgs\",maxIts=1000,r=0.5,optTol=1e-7)\n",
    "@printf(\"%3i  %-30s %3i %5i %12.2e %12.2e %12.2e\\n\",\n",
    "3, p.name, p.n, its, p.obj(x),norm(p.grd(x)),cond(p.hes(x)))\n",
    "\n",
    "p = Problem(4)\n",
    "x,its,G=newtmin(p2obj(p),p.x0,\"bfgs\",maxIts=1000,r=0.5,optTol=1e-14)\n",
    "@printf(\"%3i  %-30s %3i %5i %12.2e %12.2e %12.2e\\n\",\n",
    "4, p.name, p.n, its, p.obj(x),norm(p.grd(x)),cond(p.hes(x)))\n",
    "\n",
    "p = Problem(5)\n",
    "x,its,G=newtmin(p2obj(p),p.x0,\"bfgs\",maxIts=1000,r=0.5,optTol=1e-14)\n",
    "@printf(\"%3i  %-30s %3i %5i %12.2e %12.2e %12.2e\\n\",\n",
    "5, p.name, p.n, its, p.obj(x),norm(p.grd(x)),cond(p.hes(x)))\n",
    "\n",
    "p = Problem(6)\n",
    "x,its,G=newtmin(p2obj(p),p.x0,\"bfgs\",maxIts=2000,r=0.5,optTol=1e-24)\n",
    "@printf(\"%3i  %-30s %3i %5i %12.2e %12.2e %12.2e\\n\",\n",
    "6, p.name, p.n, its, p.obj(x),norm(p.grd(x)),cond(p.hes(x)))\n",
    "\n",
    "p = Problem(7)\n",
    "x,its,G=newtmin(p2obj(p),p.x0,\"bfgs\",maxIts=10000,r=0.6,optTol=1e-14)\n",
    "@printf(\"%3i  %-30s %3i %5i %12.2e %12.2e %12.2e\\n\",\n",
    "7, p.name, p.n, its, p.obj(x),norm(p.grd(x)),cond(p.hes(x)))\n",
    "\n",
    "p = Problem(8)\n",
    "x,its,G=newtmin(p2obj(p),p.x0,\"bfgs\",maxIts=2000,r=0.5,optTol=1e-16)\n",
    "@printf(\"%3i  %-30s %3i %5i %12.2e %12.2e %12.2e\\n\",\n",
    "8, p.name, p.n, its, p.obj(x),norm(p.grd(x)),cond(p.hes(x)))\n",
    "\n",
    "p = Problem(9)\n",
    "x,its,G=newtmin(p2obj(p),p.x0,\"bfgs\",maxIts=10000,r=0.5,optTol=1e-14)\n",
    "@printf(\"%3i  %-30s %3i %5i %12.2e %12.2e %12.2e\\n\",\n",
    "9, p.name, p.n, its, p.obj(x),norm(p.grd(x)),cond(p.hes(x)))\n",
    "\n",
    "p = Problem(10)\n",
    "x,its,G=newtmin(p2obj(p),p.x0,\"bfgs\",maxIts=10000,r=0.6,optTol=1e-16)\n",
    "@printf(\"%3i  %-30s %3i %5i %12.2e %12.2e %12.2e\\n\",\n",
    "10, p.name, p.n, its, p.obj(x),norm(p.grd(x)),cond(p.hes(x)))\n",
    "\n",
    "p = Problem(11)\n",
    "x,its,G=newtmin(p2obj(p),p.x0,\"bfgs\",maxIts=10000,r=0.9,optTol=1e-16)\n",
    "@printf(\"%3i  %-30s %3i %5i %12.2e %12.2e %12.2e\\n\",\n",
    "11, p.name, p.n, its, p.obj(x),norm(p.grd(x)),cond(p.hes(x)))\n",
    "\n",
    "p = Problem(12)\n",
    "x,its,G=newtmin(p2obj(p),p.x0,\"bfgs\",maxIts=10000,r=0.5,optTol=1e-16)\n",
    "@printf(\"%3i  %-30s %3i %5i %12.2e %12.2e %12.2e\\n\",\n",
    "12, p.name, p.n, its, p.obj(x),norm(p.grd(x)),cond(p.hes(x)))\n",
    "\n",
    "p = Problem(13)\n",
    "x,its,G=newtmin(p2obj(p),p.x0,\"bfgs\",maxIts=10000,r=0.9,optTol=1e-12)\n",
    "@printf(\"%3i  %-30s %3i %5i %12.2e %12.2e %12.2e\\n\",\n",
    "13, p.name, p.n, its, p.obj(x),norm(p.grd(x)),cond(p.hes(x)))\n",
    "\n",
    "p = Problem(14)\n",
    "x,its,G=newtmin(p2obj(p),p.x0,\"bfgs\",maxIts=10000,r=0.5,optTol=1e-15)\n",
    "@printf(\"%3i  %-30s %3i %5i %12.2e %12.2e %12.2e\\n\",\n",
    "14, p.name, p.n, its, p.obj(x),norm(p.grd(x)),cond(p.hes(x)))\n",
    "\n",
    "p = Problem(15)\n",
    "x,its,G=newtmin(p2obj(p),p.x0,\"bfgs\",maxIts=10000,r=0.5,optTol=1e-18)\n",
    "@printf(\"%3i  %-30s %3i %5i %12.2e %12.2e %12.2e\\n\",\n",
    "15, p.name, p.n, its, p.obj(x),norm(p.grd(x)),cond(p.hes(x)))\n",
    "\n",
    "p = Problem(16)\n",
    "x,its,G=newtmin(p2obj(p),p.x0,\"bfgs\",maxIts=10000,r=0.5,optTol=1e-16)\n",
    "@printf(\"%3i  %-30s %3i %5i %12.2e %12.2e %12.2e\\n\",\n",
    "16, p.name, p.n, its, p.obj(x),norm(p.grd(x)),cond(p.hes(x)))\n",
    "\n",
    "p = Problem(17)\n",
    "x,its,G=newtmin(p2obj(p),p.x0,\"bfgs\",maxIts=10000,r=0.5,optTol=1e-19)\n",
    "@printf(\"%3i  %-30s %3i %5i %12.2e %12.2e %12.2e\\n\",\n",
    "17, p.name, p.n, its, p.obj(x),norm(p.grd(x)),cond(p.hes(x)))\n",
    "\n",
    "p = Problem(18)\n",
    "x,its,G=newtmin(p2obj(p),p.x0,\"bfgs\",maxIts=10000,r=0.6,optTol=1e-10)\n",
    "@printf(\"%3i  %-30s %3i %5i %12.2e %12.2e %12.2e\\n\",\n",
    "18, p.name, p.n, its, p.obj(x),norm(p.grd(x)),cond(p.hes(x)))"
   ]
  },
  {
   "cell_type": "markdown",
   "metadata": {},
   "source": [
    "From the results above, we can see that by using the \"BFGS\" method, all the 18 problems can converge in the sense that $\\|\\text{gradient}\\|<1e^{-8}$ . "
   ]
  },
  {
   "cell_type": "markdown",
   "metadata": {},
   "source": [
    "##Exercise 2"
   ]
  },
  {
   "cell_type": "markdown",
   "metadata": {},
   "source": [
    "Apply the Newton code to solve the logistic regression problem:"
   ]
  },
  {
   "cell_type": "code",
   "execution_count": 19,
   "metadata": {
    "collapsed": false
   },
   "outputs": [
    {
     "data": {
      "text/plain": [
       "obj2 (generic function with 1 method)"
      ]
     },
     "execution_count": 19,
     "metadata": {},
     "output_type": "execute_result"
    }
   ],
   "source": [
    "using DataFrames\n",
    "admission=readtable(\"binary.csv\");\n",
    "u=convert(Array,admission[:,2:3]);\n",
    "y=convert(Array,admission[:,1]);\n",
    "m=size(admission,1)\n",
    "\n",
    "#Negative log-likelihood\n",
    "function NL(x,u=u,y=y,m=m)\n",
    "    s=0\n",
    "    for i=1:m\n",
    "        s=s-y[i]*(x[1]+x[2]*u[i,1]+x[3]*u[i,2])+log(1+exp(x[1]+x[2]*u[i,1]+x[3]*u[i,2]))\n",
    "    end\n",
    "    return(s)\n",
    "end\n",
    "\n",
    "#Gradient of negtive log-likelihood\n",
    "function Df(x,u=u,y=y,m=m)\n",
    "    s=zeros(3)\n",
    "    for i=1:m\n",
    "        s=s-(y[i]-1/(1+exp(-x[1]-x[2]*u[i,1]-x[3]*u[i,2])))*[1,u[i,1],u[i,2]]\n",
    "    end\n",
    "    return(s)\n",
    "end\n",
    "\n",
    "#Hessian of negative log-likelihood\n",
    "function Hf(x,u=u,y=y,m=m)\n",
    "    s=zeros(3,3)\n",
    "    for i=1:m\n",
    "        s=s+1/((1+exp(-x[1]-x[2]*u[i,1]-x[3]*u[i,2]))*(1+exp(x[1]+x[2]*u[i,1]+x[3]*u[i,2])))*[1,u[i,1],u[i,2]]*[1 u[i,1] u[i,2]]\n",
    "    end\n",
    "    return(s)\n",
    "end\n",
    "\n",
    "function obj2(x)\n",
    "    f=NL(x);\n",
    "    g=Df(x);\n",
    "    H=Hf(x);\n",
    "    return f,g,H\n",
    "end"
   ]
  },
  {
   "cell_type": "markdown",
   "metadata": {},
   "source": [
    "The results of my Newton's method are listed as below:"
   ]
  },
  {
   "cell_type": "markdown",
   "metadata": {},
   "source": [
    "For the pure Newton's method: "
   ]
  },
  {
   "cell_type": "code",
   "execution_count": 3,
   "metadata": {
    "collapsed": false
   },
   "outputs": [
    {
     "name": "stdout",
     "output_type": "stream",
     "text": [
      "Its=5, The optimal value=240.17199084241435\n",
      "x=[-4.94937806262254,0.002690683595964324,0.7546868559629325]\n"
     ]
    }
   ],
   "source": [
    "x0=zeros(3)\n",
    "x,its,G=newtmin(obj2,x0,\"newton\";eps=1,maxIts=100,optTol=1e-6)\n",
    "println(\"Its=\",its,\", The optimal value=\",obj2(x)[1])\n",
    "println(\"x=\",x)"
   ]
  },
  {
   "cell_type": "markdown",
   "metadata": {},
   "source": [
    "The convergence plot is as below:"
   ]
  },
  {
   "cell_type": "code",
   "execution_count": 24,
   "metadata": {
    "collapsed": false
   },
   "outputs": [
    {
     "data": {
      "image/png": "[encoded data removed]",
      "text/plain": [
       "PyPlot.Figure(PyObject <matplotlib.figure.Figure object at 0x7f0dd75ea710>)"
      ]
     },
     "metadata": {},
     "output_type": "display_data"
    },
    {
     "data": {
      "text/plain": [
       "PyObject <matplotlib.text.Text object at 0x7f0dd75e3e50>"
      ]
     },
     "execution_count": 24,
     "metadata": {},
     "output_type": "execute_result"
    }
   ],
   "source": [
    "plot(1:length(G),log(G))\n",
    "title(\"Convergence of (pure) Newton's method\")\n",
    "xlabel(L\"iteration($k$)\")\n",
    "ylabel(L\"$\\log(\\|\\nabla L(x_k\\|)$\")"
   ]
  },
  {
   "cell_type": "markdown",
   "metadata": {},
   "source": [
    "For the modified Newton's method: "
   ]
  },
  {
   "cell_type": "code",
   "execution_count": 13,
   "metadata": {
    "collapsed": false
   },
   "outputs": [
    {
     "name": "stdout",
     "output_type": "stream",
     "text": [
      "Its=33, The optimal value=240.1719908430274\n",
      "x=[-4.9493442124964835,0.002690681887937538,0.7546778789633789]\n"
     ]
    }
   ],
   "source": [
    "x0=ones(3)\n",
    "x,its,G=newtmin(obj2,x0,\"modified2\",r=0.5,eps=1,optTol=1e-6)\n",
    "println(\"Its=\",its,\", The optimal value=\",obj2(x)[1])\n",
    "println(\"x=\",x)"
   ]
  },
  {
   "cell_type": "code",
   "execution_count": 25,
   "metadata": {
    "collapsed": false
   },
   "outputs": [
    {
     "data": {
      "image/png": "[encoded data removed]",
      "text/plain": [
       "PyPlot.Figure(PyObject <matplotlib.figure.Figure object at 0x7f0dd7ac5250>)"
      ]
     },
     "metadata": {},
     "output_type": "display_data"
    },
    {
     "data": {
      "text/plain": [
       "PyObject <matplotlib.text.Text object at 0x7f0dd74fa910>"
      ]
     },
     "execution_count": 25,
     "metadata": {},
     "output_type": "execute_result"
    }
   ],
   "source": [
    "plot(1:length(G),log(G))\n",
    "title(\"Convergence of (modified) Newton's method\")\n",
    "xlabel(L\"iteration($k$)\")\n",
    "ylabel(L\"$\\log(\\|\\nabla L(x_k\\|)$\")"
   ]
  },
  {
   "cell_type": "markdown",
   "metadata": {},
   "source": [
    "For the BFGS method:"
   ]
  },
  {
   "cell_type": "code",
   "execution_count": 29,
   "metadata": {
    "collapsed": false,
    "scrolled": true
   },
   "outputs": [
    {
     "name": "stdout",
     "output_type": "stream",
     "text": [
      "Its=7, The optimal value=240.17199084247497\n",
      "x=[-4.949367897168008,0.0026906767490640442,0.7546852523274458]\n"
     ]
    }
   ],
   "source": [
    "x0=zeros(3)\n",
    "x,its,G=newtmin(obj2,x0,\"bfgs\";eps=1,maxIts=100,optTol=1e-6)\n",
    "println(\"Its=\",its,\", The optimal value=\",obj2(x)[1])\n",
    "println(\"x=\",x)"
   ]
  },
  {
   "cell_type": "code",
   "execution_count": 30,
   "metadata": {
    "collapsed": false
   },
   "outputs": [
    {
     "data": {
      "image/png": "[encoded data removed]",
      "text/plain": [
       "PyPlot.Figure(PyObject <matplotlib.figure.Figure object at 0x7f0dd753db10>)"
      ]
     },
     "metadata": {},
     "output_type": "display_data"
    },
    {
     "data": {
      "text/plain": [
       "PyObject <matplotlib.text.Text object at 0x7f0dd72b1890>"
      ]
     },
     "execution_count": 30,
     "metadata": {},
     "output_type": "execute_result"
    }
   ],
   "source": [
    "plot(1:length(G),log(G))\n",
    "title(\"Convergence of BFGS method\")\n",
    "xlabel(L\"iteration($k$)\")\n",
    "ylabel(L\"$\\log(\\|\\nabla L(x_k\\|)$\")"
   ]
  },
  {
   "cell_type": "code",
   "execution_count": 35,
   "metadata": {
    "collapsed": false
   },
   "outputs": [
    {
     "name": "stdout",
     "output_type": "stream",
     "text": [
      "Its=13, The optimal value=240.17199084242242\n",
      "x=[-4.949377676356873,0.0026906832154044566,0.7546866855998055]\n"
     ]
    }
   ],
   "source": [
    "x0=[-2,0,2]\n",
    "x,its,G=newtmin(obj2,x0,\"bfgs\";eps=1,maxIts=100,optTol=1e-6)\n",
    "println(\"Its=\",its,\", The optimal value=\",obj2(x)[1])\n",
    "println(\"x=\",x)"
   ]
  },
  {
   "cell_type": "code",
   "execution_count": 36,
   "metadata": {
    "collapsed": false
   },
   "outputs": [
    {
     "data": {
      "image/png": "[encoded data removed]",
      "text/plain": [
       "PyPlot.Figure(PyObject <matplotlib.figure.Figure object at 0x7f0dd4901090>)"
      ]
     },
     "metadata": {},
     "output_type": "display_data"
    },
    {
     "data": {
      "text/plain": [
       "PyObject <matplotlib.text.Text object at 0x7f0dd487e950>"
      ]
     },
     "execution_count": 36,
     "metadata": {},
     "output_type": "execute_result"
    }
   ],
   "source": [
    "plot(1:length(G),log(G))\n",
    "title(\"Convergence of BFGS method\")\n",
    "xlabel(L\"iteration($k$)\")\n",
    "ylabel(L\"$\\log(\\|\\nabla L(x_k\\|)$\")"
   ]
  },
  {
   "cell_type": "markdown",
   "metadata": {},
   "source": [
    "For the gradient descent method"
   ]
  },
  {
   "cell_type": "code",
   "execution_count": 37,
   "metadata": {
    "collapsed": false
   },
   "outputs": [
    {
     "data": {
      "text/plain": [
       "0.00046683276468109826"
      ]
     },
     "execution_count": 37,
     "metadata": {},
     "output_type": "execute_result"
    }
   ],
   "source": [
    "u2=u*Diagonal([1/200,1])\n",
    "X=[ones(400) u2]\n",
    "alpha=4/norm(X)^2"
   ]
  },
  {
   "cell_type": "markdown",
   "metadata": {},
   "source": [
    "From the results above and the results in last homework: the iteration of the second-order method is less than 40, but the iteration of the first-order method is approximately 50000, i.e. the second-order method is more faster than the first-order method."
   ]
  }
 ],
 "metadata": {
  "kernelspec": {
   "display_name": "Julia 0.4.0",
   "language": "julia",
   "name": "julia-0.4"
  },
  "language_info": {
   "file_extension": ".jl",
   "mimetype": "application/julia",
   "name": "julia",
   "version": "0.4.0"
  }
 },
 "nbformat": 4,
 "nbformat_minor": 0
}
